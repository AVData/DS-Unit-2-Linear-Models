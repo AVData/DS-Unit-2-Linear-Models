{
 "cells": [
  {
   "cell_type": "markdown",
   "metadata": {
    "colab_type": "text",
    "id": "AV7t5CblkDof"
   },
   "source": [
    "Lambda School Data Science\n",
    "\n",
    "*Unit 2, Sprint 1, Module 3*\n",
    "\n",
    "---"
   ]
  },
  {
   "cell_type": "markdown",
   "metadata": {
    "colab_type": "text",
    "id": "UBMcrliJ0UWA"
   },
   "source": [
    "# Regression & Classification, Module 3\n",
    "- Make visualizations to explore relationships between features and target\n",
    "- Do feature selection\n",
    "- Do one-hot encoding of categorical features\n"
   ]
  },
  {
   "cell_type": "markdown",
   "metadata": {
    "colab_type": "text",
    "id": "Zmve7Rw70UWC"
   },
   "source": [
    "### Setup\n",
    "\n",
    "You can work locally (follow the [local setup instructions](https://lambdaschool.github.io/ds/unit2/local/)) or on Colab (run the code cell below)."
   ]
  },
  {
   "cell_type": "code",
   "execution_count": null,
   "metadata": {
    "colab": {},
    "colab_type": "code",
    "id": "z-T3HbUZ0UWD"
   },
   "outputs": [],
   "source": [
    "import os, sys\n",
    "in_colab = 'google.colab' in sys.modules\n",
    "\n",
    "# If you're in Colab...\n",
    "if in_colab:\n",
    "    # Pull files from Github repo\n",
    "    os.chdir('/content')\n",
    "    !git init .\n",
    "    !git remote add origin https://github.com/LambdaSchool/DS-Unit-2-Regression-Classification.git\n",
    "    !git pull origin master\n",
    "    \n",
    "    # Install required python packages\n",
    "    !pip install -r requirements.txt\n",
    "    \n",
    "    # Change into directory for module\n",
    "    os.chdir('module3')"
   ]
  },
  {
   "cell_type": "code",
   "execution_count": null,
   "metadata": {
    "colab": {},
    "colab_type": "code",
    "id": "P_v4SKV60UWG"
   },
   "outputs": [],
   "source": [
    "# Ignore this Numpy warning when using Plotly Express:\n",
    "# FutureWarning: Method .ptp is deprecated and will be removed in a future version. Use numpy.ptp instead.\n",
    "import warnings\n",
    "warnings.filterwarnings(action='ignore', category=FutureWarning, module='numpy')"
   ]
  },
  {
   "cell_type": "markdown",
   "metadata": {
    "colab_type": "text",
    "id": "dKVeRZX7s1CY"
   },
   "source": [
    "# Make visualizations to explore relationships between features and target"
   ]
  },
  {
   "cell_type": "markdown",
   "metadata": {
    "colab_type": "text",
    "id": "21buFx61s3dE"
   },
   "source": [
    "## Overview\n",
    "\n",
    "Let's start with some example solutions from yesterday's assingment."
   ]
  },
  {
   "cell_type": "markdown",
   "metadata": {
    "colab_type": "text",
    "id": "B2GizMlE0UWI"
   },
   "source": [
    "First, load data & remove outliers:"
   ]
  },
  {
   "cell_type": "code",
   "execution_count": null,
   "metadata": {
    "colab": {},
    "colab_type": "code",
    "id": "QnfqBhUX0UWJ"
   },
   "outputs": [],
   "source": [
    "import numpy as np\n",
    "import pandas as pd\n",
    "\n",
    "# Read New York City apartment rental listing data\n",
    "df = pd.read_csv('../data/apartments/renthop-nyc.csv')\n",
    "assert df.shape == (49352, 34)\n",
    "\n",
    "# Remove the most extreme 1% prices,\n",
    "# the most extreme .1% latitudes, &\n",
    "# the most extreme .1% longitudes\n",
    "df = df[(df['price'] >= np.percentile(df['price'], 0.5)) & \n",
    "        (df['price'] <= np.percentile(df['price'], 99.5)) & \n",
    "        (df['latitude'] >= np.percentile(df['latitude'], 0.05)) & \n",
    "        (df['latitude'] < np.percentile(df['latitude'], 99.95)) &\n",
    "        (df['longitude'] >= np.percentile(df['longitude'], 0.05)) & \n",
    "        (df['longitude'] <= np.percentile(df['longitude'], 99.95))]"
   ]
  },
  {
   "cell_type": "markdown",
   "metadata": {
    "colab_type": "text",
    "id": "EI1Wjv1p0UWL"
   },
   "source": [
    "Do train/test split\n",
    "\n",
    "- Use data from April & May 2016 to train\n",
    "- Use data from June 2016 to test"
   ]
  },
  {
   "cell_type": "code",
   "execution_count": null,
   "metadata": {
    "colab": {
     "base_uri": "https://localhost:8080/",
     "height": 134
    },
    "colab_type": "code",
    "id": "6lrMDTO50UWL",
    "outputId": "eb2e23a1-d977-4e7c-efc3-0c86bcf2e5db"
   },
   "outputs": [],
   "source": [
    "# Convert to datetime and look at the date range\n",
    "df['created'] = pd.to_datetime(df['created'], infer_datetime_format=True)\n",
    "df['created'].describe()"
   ]
  },
  {
   "cell_type": "code",
   "execution_count": null,
   "metadata": {
    "colab": {
     "base_uri": "https://localhost:8080/",
     "height": 84
    },
    "colab_type": "code",
    "id": "8wCBaH9h0UWN",
    "outputId": "45c306b0-6c31-4e8d-8b36-a8c43c7b660b"
   },
   "outputs": [],
   "source": [
    "# There are 16217 + 15627 observations in April & May 2016,\n",
    "# and 16973 observations in June 2016.\n",
    "df['created'].dt.month.value_counts()"
   ]
  },
  {
   "cell_type": "code",
   "execution_count": null,
   "metadata": {
    "colab": {
     "base_uri": "https://localhost:8080/",
     "height": 34
    },
    "colab_type": "code",
    "id": "rgmqEuj50UWP",
    "outputId": "27b0c2c8-2e60-4840-d92a-4986de8f737c"
   },
   "outputs": [],
   "source": [
    "# There are many ways to do train/test split based on date.\n",
    "# Here's one way:\n",
    "train = df[df.created.dt.month < 6]\n",
    "test  = df[df.created.dt.month == 6]\n",
    "train.shape, test.shape"
   ]
  },
  {
   "cell_type": "code",
   "execution_count": null,
   "metadata": {
    "colab": {
     "base_uri": "https://localhost:8080/",
     "height": 34
    },
    "colab_type": "code",
    "id": "JRk4RUDr0UWQ",
    "outputId": "3eeda6b9-0e0d-4857-df21-4c9e6f259eb4"
   },
   "outputs": [],
   "source": [
    "# Here's another way\n",
    "cutoff = pd.to_datetime('2016-06-01')\n",
    "train = df[df.created < cutoff]\n",
    "test  = df[df.created >= cutoff]\n",
    "train.shape, test.shape"
   ]
  },
  {
   "cell_type": "code",
   "execution_count": null,
   "metadata": {
    "colab": {
     "base_uri": "https://localhost:8080/",
     "height": 34
    },
    "colab_type": "code",
    "id": "rLv8wrnl0UWT",
    "outputId": "9d1159ba-3092-4b68-882b-be51f5d63163"
   },
   "outputs": [],
   "source": [
    "# Here's another way\n",
    "df = df.set_index('created')\n",
    "train = df[:'2016-05'].reset_index()\n",
    "test  = df['2016-06':].reset_index()\n",
    "df = df.reset_index()\n",
    "train.shape, test.shape"
   ]
  },
  {
   "cell_type": "markdown",
   "metadata": {
    "colab_type": "text",
    "id": "KsBhN4XS0UWX"
   },
   "source": [
    "## Follow Along\n",
    "\n",
    "\n",
    "\"Location, Location, Location\" is a real estate slogan.\n",
    "\n",
    "Let's explore the relationship between location & price."
   ]
  },
  {
   "cell_type": "code",
   "execution_count": null,
   "metadata": {
    "colab": {
     "base_uri": "https://localhost:8080/",
     "height": 617
    },
    "colab_type": "code",
    "id": "STxg_O2R0UWX",
    "outputId": "64ed5f9f-0b98-4b3e-b89e-2b679d5ceb64"
   },
   "outputs": [],
   "source": [
    "import plotly.express as px\n",
    "px.scatter(train, x='longitude', y='latitude', color='price') # opacity=0.05"
   ]
  },
  {
   "cell_type": "code",
   "execution_count": null,
   "metadata": {
    "colab": {
     "base_uri": "https://localhost:8080/",
     "height": 617
    },
    "colab_type": "code",
    "id": "H-bGLVBZtaD0",
    "outputId": "9f997542-6a7c-4abc-e181-a35c55397eb5"
   },
   "outputs": [],
   "source": [
    "px.scatter(train, x='longitude', y='price', trendline='ols', opacity=0.05)"
   ]
  },
  {
   "cell_type": "code",
   "execution_count": null,
   "metadata": {
    "colab": {},
    "colab_type": "code",
    "id": "mVBmribzGctv"
   },
   "outputs": [],
   "source": [
    "train['longitude_binned'] = (train['longitude'] > -74.015) & (train['longitude'] < -73.94)"
   ]
  },
  {
   "cell_type": "code",
   "execution_count": null,
   "metadata": {
    "colab": {
     "base_uri": "https://localhost:8080/",
     "height": 136
    },
    "colab_type": "code",
    "id": "qAwLd2KDGlml",
    "outputId": "05111e3a-649d-417b-e87d-80b72ddd0b07"
   },
   "outputs": [],
   "source": [
    "train.groupby('longitude_binned').price.describe()"
   ]
  },
  {
   "cell_type": "code",
   "execution_count": null,
   "metadata": {
    "colab": {
     "base_uri": "https://localhost:8080/",
     "height": 617
    },
    "colab_type": "code",
    "id": "nGlgd-enuBAA",
    "outputId": "5a1d41f5-a5e2-4211-c881-5f01a5c7206b"
   },
   "outputs": [],
   "source": [
    "px.scatter(train, x='latitude', y='price', trendline='ols', opacity=0.05)"
   ]
  },
  {
   "cell_type": "code",
   "execution_count": null,
   "metadata": {
    "colab": {
     "base_uri": "https://localhost:8080/",
     "height": 617
    },
    "colab_type": "code",
    "id": "_ytS29030UWZ",
    "outputId": "d2992d8e-dec0-4737-a266-2b1e5f8f87f6"
   },
   "outputs": [],
   "source": [
    "# Cluster the locations?\n",
    "from sklearn.cluster import KMeans\n",
    "kmeans = KMeans(n_clusters=20, n_jobs=-1)\n",
    "train['cluster'] = kmeans.fit_predict(train[['longitude', 'latitude']])\n",
    "test['cluster'] = kmeans.predict(test[['longitude', 'latitude']])\n",
    "px.scatter(train, x='longitude', y='latitude', color='cluster')"
   ]
  },
  {
   "cell_type": "code",
   "execution_count": null,
   "metadata": {
    "colab": {
     "base_uri": "https://localhost:8080/",
     "height": 669
    },
    "colab_type": "code",
    "id": "hDGtTtCF4LDW",
    "outputId": "7ef64cdc-f8d0-4b0b-cd2f-987d91cc6e1d"
   },
   "outputs": [],
   "source": [
    "train.groupby('cluster').price.describe()"
   ]
  },
  {
   "cell_type": "code",
   "execution_count": null,
   "metadata": {
    "colab": {
     "base_uri": "https://localhost:8080/",
     "height": 369
    },
    "colab_type": "code",
    "id": "X6oiRJat4Yti",
    "outputId": "37df093d-c271-4ba1-e9a3-360ec7f7dcc8"
   },
   "outputs": [],
   "source": [
    "%matplotlib inline\n",
    "import matplotlib.pyplot as plt\n",
    "import seaborn as sns\n",
    "sns.catplot(x='cluster', y='price', data=train, kind='bar', color='grey');"
   ]
  },
  {
   "cell_type": "markdown",
   "metadata": {
    "colab_type": "text",
    "id": "_Wuxrner0UWc"
   },
   "source": [
    "### Advice\n",
    "\n",
    "Do exploratory visualization for predictive modeling. Visualize the relationships between feature(s) and target.\n",
    "\n",
    "Do this with your training set, after splitting your data. \n",
    "\n",
    "Try [Seaborn \"Categorical estimate\" plots](https://seaborn.pydata.org/tutorial/categorical.html) for features with reasonably few unique values. (With too many unique values, the plot is unreadable.)\n",
    "\n",
    "- Categorical features. (If there are too many unique values, you can replace less frequent values with \"OTHER.\")\n",
    "- Numeric features. (If there are too many unique values, you can [bin with pandas cut / qcut functions](https://pandas.pydata.org/pandas-docs/stable/getting_started/basics.html?highlight=qcut#discretization-and-quantiling).)\n",
    "\n",
    "Try [Seaborn linear model plots](https://seaborn.pydata.org/tutorial/regression.html) with numeric features.\n",
    "\n",
    "Seaborn is nice because it includes confidence intervals to visualize uncertainty."
   ]
  },
  {
   "cell_type": "code",
   "execution_count": null,
   "metadata": {
    "colab": {
     "base_uri": "https://localhost:8080/",
     "height": 218
    },
    "colab_type": "code",
    "id": "gn3wjS617tF7",
    "outputId": "d920a64c-8de8-4b43-baa7-d24d110531c0"
   },
   "outputs": [],
   "source": [
    "# Explore bathrooms ...\n",
    "train['bathrooms'].value_counts()"
   ]
  },
  {
   "cell_type": "code",
   "execution_count": null,
   "metadata": {
    "colab": {
     "base_uri": "https://localhost:8080/",
     "height": 402
    },
    "colab_type": "code",
    "id": "lsy-4tucMqpb",
    "outputId": "857affde-6891-44d8-a339-a1b47bd7a23b"
   },
   "outputs": [],
   "source": [
    "train.groupby('bathrooms').price.describe()"
   ]
  },
  {
   "cell_type": "code",
   "execution_count": null,
   "metadata": {
    "colab": {
     "base_uri": "https://localhost:8080/",
     "height": 235
    },
    "colab_type": "code",
    "id": "eyNlWrfOMy3O",
    "outputId": "5f04b913-e2a9-437c-a68f-f0e51ae236f1"
   },
   "outputs": [],
   "source": [
    "train.groupby('bathrooms').price.mean()"
   ]
  },
  {
   "cell_type": "code",
   "execution_count": null,
   "metadata": {
    "colab": {
     "base_uri": "https://localhost:8080/",
     "height": 295
    },
    "colab_type": "code",
    "id": "Ma3OpEKYM2D6",
    "outputId": "2c47aa9e-99e1-4ca5-d859-88861fcae29f"
   },
   "outputs": [],
   "source": [
    "train.groupby('bathrooms').price.mean().plot.bar();"
   ]
  },
  {
   "cell_type": "code",
   "execution_count": null,
   "metadata": {
    "colab": {
     "base_uri": "https://localhost:8080/",
     "height": 369
    },
    "colab_type": "code",
    "id": "ML-Rs8iaM9b9",
    "outputId": "1c13e3c7-faa5-484b-bdcf-986cffb8bc5e"
   },
   "outputs": [],
   "source": [
    "sns.catplot(x='bathrooms', y='price', data=train, kind='bar', color='grey');"
   ]
  },
  {
   "cell_type": "code",
   "execution_count": null,
   "metadata": {
    "colab": {
     "base_uri": "https://localhost:8080/",
     "height": 1000
    },
    "colab_type": "code",
    "id": "gAlASa5UNtXW",
    "outputId": "46694ef7-c48c-4e38-959e-8ea68864b568"
   },
   "outputs": [],
   "source": [
    "for col in sorted(train.columns):\n",
    "    # Check how many unique values the column has first ...\n",
    "    if train[col].nunique() <= 20:\n",
    "        sns.catplot(x=col, y='price', data=train, kind='bar', color='grey')\n",
    "        plt.show()"
   ]
  },
  {
   "cell_type": "code",
   "execution_count": null,
   "metadata": {
    "colab": {
     "base_uri": "https://localhost:8080/",
     "height": 1000
    },
    "colab_type": "code",
    "id": "XaSKLNXzQP3U",
    "outputId": "e06e3bb2-1b37-4bfe-9eec-9abcd0a76584"
   },
   "outputs": [],
   "source": [
    "numeric = train.select_dtypes('number')\n",
    "for col in sorted(numeric.columns):\n",
    "    sns.lmplot(x=col, y='price', data=train, scatter_kws=dict(alpha=0.05))\n",
    "    plt.show()"
   ]
  },
  {
   "cell_type": "markdown",
   "metadata": {
    "colab_type": "text",
    "id": "PiX6c09t0UWg"
   },
   "source": [
    "# Do Feature Selection"
   ]
  },
  {
   "cell_type": "markdown",
   "metadata": {
    "colab_type": "text",
    "id": "bps_olg9zQ4o"
   },
   "source": [
    "## Overview"
   ]
  },
  {
   "cell_type": "markdown",
   "metadata": {
    "colab_type": "text",
    "id": "LIcjv5Kx0UWh"
   },
   "source": [
    "The previous assignment quoted Wikipedia on [Feature Engineering](https://en.wikipedia.org/wiki/Feature_engineering):\n",
    "\n",
    "> \"Some machine learning projects succeed and some fail. What makes the difference? Easily the most important factor is the features used.\" — Pedro Domingos, [\"A Few Useful Things to Know about Machine Learning\"](https://homes.cs.washington.edu/~pedrod/papers/cacm12.pdf)\n",
    "\n",
    "> \"Coming up with features is difficult, time-consuming, requires expert knowledge. 'Applied machine learning' is basically feature engineering.\" — Andrew Ng, [Machine Learning and AI via Brain simulations](https://forum.stanford.edu/events/2011/2011slides/plenary/2011plenaryNg.pdf) \n",
    "\n",
    "> Feature engineering is the process of using domain knowledge of the data to create features that make machine learning algorithms work. \n",
    "\n",
    "Pedro Domingos says, \"the most important factor is the **features used**.\"\n",
    "\n",
    "This includes not just **Feature Engineering** (making new features, representing features in new ways) but also **Feature Selection** (choosing which features to include and which to exclude).\n",
    "\n",
    "There are _many_ specific tools and techniques for feature selection.\n",
    "\n",
    "- Today we'll try [scikit-learn's `SelectKBest` transformer](https://scikit-learn.org/stable/modules/feature_selection.html#univariate-feature-selection), for \"univariate, forward selection.\"\n",
    "- Next week we'll try another technique, [\"permutation importance\"](https://www.kaggle.com/dansbecker/permutation-importance)\n",
    "- If you want to explore even more options, here are some good resources!\n",
    "  - [scikit-learn's User Guide for Feature Selection](https://scikit-learn.org/stable/modules/feature_selection.html)\n",
    "  - [mlxtend](http://rasbt.github.io/mlxtend/) library\n",
    "  - scikit-learn-contrib libraries: [boruta_py](https://github.com/scikit-learn-contrib/boruta_py) & [stability-selection](https://github.com/scikit-learn-contrib/stability-selection)\n",
    "  - [_Feature Engineering and Selection_](http://www.feat.engineering/) by Kuhn & Johnson.\n",
    "\n",
    "\n",
    "My general recommendation is:\n",
    "\n",
    "> Predictive accuracy on test sets is the criterion for how good the model is. — Leo Breiman, [\"Statistical Modeling: The Two Cultures\"](https://projecteuclid.org/download/pdf_1/euclid.ss/1009213726)"
   ]
  },
  {
   "cell_type": "code",
   "execution_count": null,
   "metadata": {
    "colab": {
     "base_uri": "https://localhost:8080/",
     "height": 34
    },
    "colab_type": "code",
    "id": "QpvymlGL0UNl",
    "outputId": "92f29d5f-5449-4cec-9e77-1bd72e6f654f"
   },
   "outputs": [],
   "source": [
    "# First, engineer some more features to select from\n",
    "\n",
    "def engineer_features(df):\n",
    "    # What's the neighborhood, based on address or latitude & longitude?\n",
    "    clusters = pd.get_dummies(df['cluster'], prefix='cluster')\n",
    "    for col in clusters:\n",
    "        df[col] = clusters[col]\n",
    "        \n",
    "    # Does the apartment have a description?\n",
    "    df['description'] = df['description'].str.strip().fillna('')\n",
    "    df['has_description'] = df['description'] != ''\n",
    "\n",
    "    # How long is the description?\n",
    "    df['description_length'] = df['description'].str.len()\n",
    "\n",
    "    # How many total perks does each apartment have?\n",
    "    perk_cols = ['elevator', 'cats_allowed', 'hardwood_floors', 'dogs_allowed',\n",
    "                 'doorman', 'dishwasher', 'no_fee', 'laundry_in_building',\n",
    "                 'fitness_center', 'pre-war', 'laundry_in_unit', 'roof_deck',\n",
    "                 'outdoor_space', 'dining_room', 'high_speed_internet', 'balcony',\n",
    "                 'swimming_pool', 'new_construction', 'exclusive', 'terrace', \n",
    "                 'loft', 'garden_patio', 'common_outdoor_space', \n",
    "                 'wheelchair_access']\n",
    "    df['perk_count'] = df[perk_cols].sum(axis=1)\n",
    "\n",
    "    # Are cats or dogs allowed?\n",
    "    df['cats_or_dogs'] = (df['cats_allowed']==1) | (df['dogs_allowed']==1)\n",
    "\n",
    "    # Are cats and dogs allowed?\n",
    "    df['cats_and_dogs'] = (df['cats_allowed']==1) & (df['dogs_allowed']==1)\n",
    "\n",
    "    # Total number of rooms (beds + baths)\n",
    "    df['rooms'] = df['bedrooms'] + df['bathrooms']\n",
    "\n",
    "    return df\n",
    "\n",
    "    \n",
    "train = engineer_features(train)\n",
    "test = engineer_features(test)\n",
    "train.shape, test.shape"
   ]
  },
  {
   "cell_type": "code",
   "execution_count": null,
   "metadata": {
    "colab": {
     "base_uri": "https://localhost:8080/",
     "height": 269
    },
    "colab_type": "code",
    "id": "u0xdG10qUjui",
    "outputId": "09ec224c-4918-42d5-e0a5-0dbe451ca92a"
   },
   "outputs": [],
   "source": [
    "train.columns"
   ]
  },
  {
   "cell_type": "markdown",
   "metadata": {
    "colab_type": "text",
    "id": "XBKy0Zzi0UWh"
   },
   "source": [
    "### Can we try every possible feature combination?\n",
    "- https://en.wikipedia.org/wiki/Combination\n",
    "- https://docs.python.org/3/library/itertools.html#itertools.combinations\n",
    "- https://docs.python.org/3/library/math.html#math.factorial"
   ]
  },
  {
   "cell_type": "code",
   "execution_count": null,
   "metadata": {
    "colab": {
     "base_uri": "https://localhost:8080/",
     "height": 34
    },
    "colab_type": "code",
    "id": "J4sFHW5v0UWi",
    "outputId": "031ae76f-8c71-44d3-ba46-6ed58632d1b2"
   },
   "outputs": [],
   "source": [
    "# How many features do we have currently?\n",
    "target = 'price'\n",
    "features = train.columns.drop(target)\n",
    "len(features)"
   ]
  },
  {
   "cell_type": "code",
   "execution_count": null,
   "metadata": {
    "colab": {
     "base_uri": "https://localhost:8080/",
     "height": 34
    },
    "colab_type": "code",
    "id": "SnfzNVmc0UWj",
    "outputId": "dc2e93fa-72bc-4c10-e4a1-52646921d049"
   },
   "outputs": [],
   "source": [
    "# How many ways to choose 1 feature?\n",
    "from itertools import combinations\n",
    "len(list(combinations(features, 1)))"
   ]
  },
  {
   "cell_type": "code",
   "execution_count": null,
   "metadata": {
    "colab": {
     "base_uri": "https://localhost:8080/",
     "height": 34
    },
    "colab_type": "code",
    "id": "FjQTR2I00UWl",
    "outputId": "718db127-84ea-4ed0-f62d-ba7f2e1afa39"
   },
   "outputs": [],
   "source": [
    "# How many ways to choose 2 features?\n",
    "len(list(combinations(features, 2)))"
   ]
  },
  {
   "cell_type": "code",
   "execution_count": null,
   "metadata": {
    "colab": {
     "base_uri": "https://localhost:8080/",
     "height": 34
    },
    "colab_type": "code",
    "id": "MxwE2mto0UWn",
    "outputId": "f72c3c67-6485-467d-faa9-a6120a1ab2f5"
   },
   "outputs": [],
   "source": [
    "# How many ways to choose 3 features?\n",
    "len(list(combinations(features, 3)))"
   ]
  },
  {
   "cell_type": "code",
   "execution_count": null,
   "metadata": {
    "colab": {
     "base_uri": "https://localhost:8080/",
     "height": 34
    },
    "colab_type": "code",
    "id": "kLPVb0510UWq",
    "outputId": "74e4b2e0-51d3-4be2-89b0-4c0d9ed292bc"
   },
   "outputs": [],
   "source": [
    "# How many ways to choose 1 to n features?\n",
    "\n",
    "from math import factorial\n",
    "\n",
    "def n_choose_k(n, k):\n",
    "    return factorial(n)/(factorial(k)*factorial(n-k))\n",
    "\n",
    "total = 0\n",
    "for k in range(1, len(features)+1):\n",
    "    total += n_choose_k(len(features), k)\n",
    "    \n",
    "print(f'{total:,}')"
   ]
  },
  {
   "cell_type": "markdown",
   "metadata": {
    "colab_type": "text",
    "id": "MQpQTtNwzZU2"
   },
   "source": [
    "## Follow Along"
   ]
  },
  {
   "cell_type": "markdown",
   "metadata": {
    "colab_type": "text",
    "id": "1TwakmBi0UWs"
   },
   "source": [
    "### Start simple & fast, with a subset of columns\n",
    "\n",
    "Just numeric columns with no missing values"
   ]
  },
  {
   "cell_type": "code",
   "execution_count": null,
   "metadata": {
    "colab": {},
    "colab_type": "code",
    "id": "n7dGWjD-0UWt"
   },
   "outputs": [],
   "source": [
    "train_subset = train.select_dtypes('number').dropna(axis='columns')\n",
    "test_subset = test.select_dtypes('number').dropna(axis='columns')\n",
    "assert all(train_subset.columns == test_subset.columns)"
   ]
  },
  {
   "cell_type": "code",
   "execution_count": null,
   "metadata": {
    "colab": {
     "base_uri": "https://localhost:8080/",
     "height": 34
    },
    "colab_type": "code",
    "id": "XYuuP-cEWrwp",
    "outputId": "aab018d2-a05c-4788-ef8c-fc185aa69d58"
   },
   "outputs": [],
   "source": [
    "target = 'price'\n",
    "features = train_subset.columns.drop(target)\n",
    "X_train = train_subset[features]\n",
    "y_train = train_subset[target]\n",
    "X_test = test_subset[features]\n",
    "y_test = test_subset[target]\n",
    "X_train.shape, y_train.shape, X_test.shape, y_test.shape"
   ]
  },
  {
   "cell_type": "markdown",
   "metadata": {
    "colab_type": "text",
    "id": "2a5hRDlu0UWv"
   },
   "source": [
    "### Univariate, Forward selection\n",
    "https://scikit-learn.org/stable/modules/feature_selection.html#univariate-feature-selection"
   ]
  },
  {
   "cell_type": "code",
   "execution_count": null,
   "metadata": {
    "colab": {
     "base_uri": "https://localhost:8080/",
     "height": 34
    },
    "colab_type": "code",
    "id": "-eX6foc10UWv",
    "outputId": "0443add6-f992-4300-85a8-fcb8efe8fb5b"
   },
   "outputs": [],
   "source": [
    "# Select the 15 features that best correlate with the target\n",
    "from sklearn.feature_selection import f_regression, SelectKBest\n",
    "\n",
    "# Similar API to what we've seen before\n",
    "selector = SelectKBest(score_func=f_regression, k=15)\n",
    "\n",
    "# IMPORTANT!\n",
    "# .fit_transform on the train set\n",
    "# .transform on test set\n",
    "X_train_selected = selector.fit_transform(X_train, y_train)\n",
    "X_test_selected = selector.transform(X_test)\n",
    "X_train_selected.shape, X_test_selected.shape"
   ]
  },
  {
   "cell_type": "code",
   "execution_count": null,
   "metadata": {
    "colab": {
     "base_uri": "https://localhost:8080/",
     "height": 941
    },
    "colab_type": "code",
    "id": "bM_9LFJuaH7z",
    "outputId": "a1f72c91-5391-4413-d659-f271b686aec6"
   },
   "outputs": [],
   "source": [
    "# Which features were selected?\n",
    "all_names = X_train.columns\n",
    "selected_mask = selector.get_support()\n",
    "selected_names = all_names[selected_mask]\n",
    "unselected_names = all_names[~selected_mask]\n",
    "\n",
    "print('Features selected:')\n",
    "for name in selected_names:\n",
    "    print(name)\n",
    "    \n",
    "print('\\nFeatures not selected:')\n",
    "for name in unselected_names:\n",
    "    print(name)"
   ]
  },
  {
   "cell_type": "code",
   "execution_count": null,
   "metadata": {
    "colab": {
     "base_uri": "https://localhost:8080/",
     "height": 34
    },
    "colab_type": "code",
    "id": "WS2Cj1cYbK5h",
    "outputId": "7b359e0e-02e6-4e8d-9ca4-5901a296af36"
   },
   "outputs": [],
   "source": [
    "from sklearn.linear_model import LinearRegression\n",
    "from sklearn.metrics import mean_absolute_error\n",
    "\n",
    "model = LinearRegression()\n",
    "model.fit(X_train_selected, y_train)\n",
    "y_pred = model.predict(X_test_selected)\n",
    "mae = mean_absolute_error(y_test, y_pred)\n",
    "print(f'Test MAE: ${mae:,.0f}')"
   ]
  },
  {
   "cell_type": "code",
   "execution_count": null,
   "metadata": {
    "colab": {
     "base_uri": "https://localhost:8080/",
     "height": 1000
    },
    "colab_type": "code",
    "id": "c9Sp6QBEbvzs",
    "outputId": "646eb453-0dd7-4fde-b294-02b65d651f73"
   },
   "outputs": [],
   "source": [
    "for k in range(1, len(X_train.columns)+1):\n",
    "    \n",
    "    print(f'{k} features')\n",
    "    \n",
    "    selector = SelectKBest(score_func=f_regression, k=k)\n",
    "    X_train_selected = selector.fit_transform(X_train, y_train)\n",
    "    X_test_selected = selector.transform(X_test)\n",
    "    \n",
    "    model = LinearRegression()\n",
    "    model.fit(X_train_selected, y_train)\n",
    "    y_pred = model.predict(X_test_selected)\n",
    "    \n",
    "    mae = mean_absolute_error(y_test, y_pred)\n",
    "    print(f'Test MAE: ${mae:,.0f} \\n')"
   ]
  },
  {
   "cell_type": "markdown",
   "metadata": {
    "colab_type": "text",
    "id": "7yHOmHvG0UWw"
   },
   "source": [
    "# Do one-hot encoding of categorical features"
   ]
  },
  {
   "cell_type": "markdown",
   "metadata": {
    "colab_type": "text",
    "id": "Hk59EsKtz-Dd"
   },
   "source": [
    "## Follow Along"
   ]
  },
  {
   "cell_type": "markdown",
   "metadata": {
    "colab_type": "text",
    "id": "CyImpIPW0UWx"
   },
   "source": [
    "### Which features are non-numeric?"
   ]
  },
  {
   "cell_type": "code",
   "execution_count": null,
   "metadata": {
    "colab": {
     "base_uri": "https://localhost:8080/",
     "height": 225
    },
    "colab_type": "code",
    "id": "CQRQcpliM__f",
    "outputId": "3304dd26-b79d-434a-e34f-31b12788bec7"
   },
   "outputs": [],
   "source": [
    "train.describe(exclude='number')"
   ]
  },
  {
   "cell_type": "code",
   "execution_count": null,
   "metadata": {
    "colab": {
     "base_uri": "https://localhost:8080/",
     "height": 67
    },
    "colab_type": "code",
    "id": "2uVLeeF6emFV",
    "outputId": "b9ad2c5c-fb8c-4704-ac97-2595dca11911"
   },
   "outputs": [],
   "source": [
    "# Notice that fitness center was a numeric encoding of a categorical feature\n",
    "train['fitness_center'].value_counts()"
   ]
  },
  {
   "cell_type": "code",
   "execution_count": null,
   "metadata": {
    "colab": {},
    "colab_type": "code",
    "id": "47PFwjcues94"
   },
   "outputs": [],
   "source": [
    "binary_columns = ['has_description', 'cats_or_dogs', 'cats_and_dogs']\n",
    "for col in binary_columns:\n",
    "    train[col] = train[col].astype(int)\n",
    "    test[col] = test[col].astype(int)"
   ]
  },
  {
   "cell_type": "code",
   "execution_count": null,
   "metadata": {
    "colab": {
     "base_uri": "https://localhost:8080/",
     "height": 284
    },
    "colab_type": "code",
    "id": "og631ypEeyp3",
    "outputId": "55650dbf-fedc-4e1c-d637-c00b91614e5f"
   },
   "outputs": [],
   "source": [
    "train[binary_columns].describe()"
   ]
  },
  {
   "cell_type": "markdown",
   "metadata": {
    "colab_type": "text",
    "id": "bf_QH_dJ0UWz"
   },
   "source": [
    "### Check \"cardinality\" of non-numeric features\n",
    "\n",
    "[Cardinality](https://simple.wikipedia.org/wiki/Cardinality) means the number of unique values that a feature has:\n",
    "> In mathematics, the cardinality of a set means the number of its elements. For example, the set A = {2, 4, 6} contains 3 elements, and therefore A has a cardinality of 3. \n",
    "\n",
    "\"One-hot encoding\" adds a dimension for each unique value of each categorical feature. So, it may not be a good choice for \"high cardinality\" categoricals that have dozens, hundreds, or thousands of unique values. "
   ]
  },
  {
   "cell_type": "code",
   "execution_count": null,
   "metadata": {
    "colab": {
     "base_uri": "https://localhost:8080/",
     "height": 195
    },
    "colab_type": "code",
    "id": "bc3qW8sX0UWz",
    "outputId": "7e4363ec-f97d-4bc8-d321-0ae23d753923"
   },
   "outputs": [],
   "source": [
    "train.describe(exclude='number').T.sort_values(by='unique')"
   ]
  },
  {
   "cell_type": "markdown",
   "metadata": {
    "colab_type": "text",
    "id": "9mLfEvRQ0UW0"
   },
   "source": [
    "### Explore `interest_level` feature"
   ]
  },
  {
   "cell_type": "code",
   "execution_count": null,
   "metadata": {
    "colab": {
     "base_uri": "https://localhost:8080/",
     "height": 84
    },
    "colab_type": "code",
    "id": "qLn3mhZ-0UW1",
    "outputId": "ff9f680a-43be-4b4a-bc3c-f832ae7956ca"
   },
   "outputs": [],
   "source": [
    "train['interest_level'].value_counts(normalize=True)"
   ]
  },
  {
   "cell_type": "code",
   "execution_count": null,
   "metadata": {
    "colab": {
     "base_uri": "https://localhost:8080/",
     "height": 101
    },
    "colab_type": "code",
    "id": "3crVZJGZfVSu",
    "outputId": "dd10f1c9-516a-4aa7-a2d2-7b90d1d2107d"
   },
   "outputs": [],
   "source": [
    "train.groupby('interest_level')['price'].mean()"
   ]
  },
  {
   "cell_type": "code",
   "execution_count": null,
   "metadata": {
    "colab": {
     "base_uri": "https://localhost:8080/",
     "height": 34
    },
    "colab_type": "code",
    "id": "6E8voNIUgOs2",
    "outputId": "4b1699e0-d931-4c73-b3e4-95e83b2032ac"
   },
   "outputs": [],
   "source": [
    "3802 - 3175"
   ]
  },
  {
   "cell_type": "code",
   "execution_count": null,
   "metadata": {
    "colab": {
     "base_uri": "https://localhost:8080/",
     "height": 34
    },
    "colab_type": "code",
    "id": "GSP5rUXbgSo2",
    "outputId": "5c597966-b2b5-4841-8e56-877effead111"
   },
   "outputs": [],
   "source": [
    "3175 - 2728"
   ]
  },
  {
   "cell_type": "code",
   "execution_count": null,
   "metadata": {
    "colab": {
     "base_uri": "https://localhost:8080/",
     "height": 34
    },
    "colab_type": "code",
    "id": "v6YUIZk-gYSx",
    "outputId": "e173f9e4-ea9b-419e-ad99-6443a2603fa3"
   },
   "outputs": [],
   "source": [
    "(627 + 447) / 2"
   ]
  },
  {
   "cell_type": "code",
   "execution_count": null,
   "metadata": {
    "colab": {
     "base_uri": "https://localhost:8080/",
     "height": 118
    },
    "colab_type": "code",
    "id": "6CK-pXJGfZBp",
    "outputId": "aca23bb3-8fda-4473-e34a-c9dab9f6a80c"
   },
   "outputs": [],
   "source": [
    "# Look at interest level for first 5 apartments\n",
    "train['interest_level'].head()"
   ]
  },
  {
   "cell_type": "markdown",
   "metadata": {
    "colab_type": "text",
    "id": "VqePupnU0UW2"
   },
   "source": [
    "### Encode `interest_level` feature"
   ]
  },
  {
   "cell_type": "code",
   "execution_count": null,
   "metadata": {
    "colab": {
     "base_uri": "https://localhost:8080/",
     "height": 195
    },
    "colab_type": "code",
    "id": "EN1XakA80UW3",
    "outputId": "421a8cde-a3ec-4b2b-8c83-274729852474"
   },
   "outputs": [],
   "source": [
    "# Look at interest level for first 5 apartments, one-hot encoded\n",
    "import category_encoders as ce\n",
    "encoder = ce.OneHotEncoder(use_cat_names=True)\n",
    "encoded = encoder.fit_transform(train['interest_level'])\n",
    "encoded.head()"
   ]
  },
  {
   "cell_type": "markdown",
   "metadata": {
    "colab_type": "text",
    "id": "bHJoKTeI0UW4"
   },
   "source": [
    "### Do one-hot encoding & Scale features, \n",
    "within a complete model fitting workflow.\n",
    "\n",
    "#### Why and how to scale features before fitting linear models\n",
    "\n",
    "Scikit-Learn User Guide, [Preprocessing data](https://scikit-learn.org/stable/modules/preprocessing.html)\n",
    "> Standardization of datasets is a common requirement for many machine learning estimators implemented in scikit-learn; they might behave badly if the individual features do not more or less look like standard normally distributed data: Gaussian with zero mean and unit variance.\n",
    "\n",
    "> The `preprocessing` module further provides a utility class `StandardScaler` that implements the `Transformer` API to compute the mean and standard deviation on a training set. The scaler instance can then be used on new data to transform it the same way it did on the training set.\n",
    "\n",
    "#### How to use encoders and scalers in scikit-learn\n",
    "- Use the **`fit_transform`** method on the **train** set\n",
    "- Use the **`transform`** method on the **validation / test** sets"
   ]
  },
  {
   "cell_type": "code",
   "execution_count": null,
   "metadata": {
    "colab": {
     "base_uri": "https://localhost:8080/",
     "height": 1000
    },
    "colab_type": "code",
    "id": "TB6vPmYh0K99",
    "outputId": "c1d8cf91-2e49-451f-99f1-d8039e47edd9"
   },
   "outputs": [],
   "source": [
    "from sklearn.preprocessing import StandardScaler\n",
    "\n",
    "target = 'price'\n",
    "high_cardinality = ['display_address', 'street_address', 'description', 'created']\n",
    "features = train.columns.drop([target] + high_cardinality)\n",
    "\n",
    "X_train = train[features]\n",
    "y_train = train[target]\n",
    "\n",
    "X_test = test[features]\n",
    "y_test = test[target]\n",
    "\n",
    "encoder = ce.OneHotEncoder(use_cat_names=True)\n",
    "X_train_encoded = encoder.fit_transform(X_train)\n",
    "X_test_encoded = encoder.transform(X_test)\n",
    "\n",
    "scaler = StandardScaler()\n",
    "X_train_scaled = scaler.fit_transform(X_train_encoded)\n",
    "X_test_scaled = scaler.transform(X_test_encoded)\n",
    "\n",
    "for k in range(1, len(X_train_encoded.columns)+1):\n",
    "    print(f'{k} features')\n",
    "    \n",
    "    selector = SelectKBest(score_func=f_regression, k=k)\n",
    "    X_train_selected = selector.fit_transform(X_train_scaled, y_train)\n",
    "    X_test_selected = selector.transform(X_test_scaled)\n",
    "    \n",
    "    model = LinearRegression()\n",
    "    model.fit(X_train_selected, y_train)\n",
    "    \n",
    "    y_pred = model.predict(X_test_selected)\n",
    "    mae = mean_absolute_error(y_test, y_pred)\n",
    "    print(f'Test MAE: ${mae:,.0f} \\n')"
   ]
  }
 ],
 "metadata": {
  "colab": {
   "collapsed_sections": [],
   "name": "DS7_lesson_regression_classification_3.ipynb",
   "provenance": []
  },
  "kernelspec": {
   "display_name": "Python 3",
   "language": "python",
   "name": "python3"
  },
  "language_info": {
   "codemirror_mode": {
    "name": "ipython",
    "version": 3
   },
   "file_extension": ".py",
   "mimetype": "text/x-python",
   "name": "python",
   "nbconvert_exporter": "python",
   "pygments_lexer": "ipython3",
   "version": "3.7.3"
  }
 },
 "nbformat": 4,
 "nbformat_minor": 1
}
